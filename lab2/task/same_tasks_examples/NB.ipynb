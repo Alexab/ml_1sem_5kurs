{
 "cells": [
  {
   "cell_type": "code",
   "execution_count": 16,
   "metadata": {},
   "outputs": [
    {
     "name": "stdout",
     "output_type": "stream",
     "text": [
      "[3 3]\n",
      "0.75\n"
     ]
    }
   ],
   "source": [
    "# Импортируем все необходимые библиотеки. sklearn устанавливается через pip или conda\n",
    "import numpy as np\n",
    "import pylab as pl\n",
    "from sklearn.naive_bayes import GaussianNB\n",
    "\n",
    "# Данные для обучения. \n",
    "# Х - признаки (например, температура и скорость ветра), \n",
    "# Y - верные ответы (например, место, где больше всего людей: 3 - торговый центр, 4 - парк)\n",
    "X = np.array([[-3,7],[1,5], [1,2], [-2,0], [2,3], [-4,0], [-1,1], [1,1], [-2,2], [2,7], [-4,1], [-2,7]])\n",
    "Y = np.array([3, 3, 3, 3, 3, 3, 3, 4, 3, 4, 4, 4])\n",
    "\n",
    "#Create a Gaussian Classifier\n",
    "model = GaussianNB()\n",
    "#model = MultinomialNB()\n",
    "\n",
    "# Train the model using the training sets \n",
    "model.fit(X, Y)\n",
    "\n",
    "#Predict Output\n",
    "predicted = model.predict([[1,2],[3,4]])\n",
    "print(predicted)\n"
   ]
  },
  {
   "cell_type": "code",
   "execution_count": null,
   "metadata": {},
   "outputs": [],
   "source": []
  }
 ],
 "metadata": {
  "kernelspec": {
   "display_name": "Python 3",
   "language": "python",
   "name": "python3"
  },
  "language_info": {
   "codemirror_mode": {
    "name": "ipython",
    "version": 3
   },
   "file_extension": ".py",
   "mimetype": "text/x-python",
   "name": "python",
   "nbconvert_exporter": "python",
   "pygments_lexer": "ipython3",
   "version": "3.6.8"
  }
 },
 "nbformat": 4,
 "nbformat_minor": 2
}
